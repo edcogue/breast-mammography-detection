{
 "cells": [
  {
   "cell_type": "code",
   "execution_count": 1,
   "id": "bb8bfe5e",
   "metadata": {},
   "outputs": [
    {
     "name": "stdout",
     "output_type": "stream",
     "text": [
      "Requirement already satisfied: pydicom in /usr/local/lib/python3.8/dist-packages (2.3.1)\n",
      "\u001b[33mWARNING: Running pip as the 'root' user can result in broken permissions and conflicting behaviour with the system package manager. It is recommended to use a virtual environment instead: https://pip.pypa.io/warnings/venv\u001b[0m\u001b[33m\n",
      "\u001b[0m\n",
      "\u001b[1m[\u001b[0m\u001b[34;49mnotice\u001b[0m\u001b[1;39;49m]\u001b[0m\u001b[39;49m A new release of pip is available: \u001b[0m\u001b[31;49m23.0.1\u001b[0m\u001b[39;49m -> \u001b[0m\u001b[32;49m23.1.1\u001b[0m\n",
      "\u001b[1m[\u001b[0m\u001b[34;49mnotice\u001b[0m\u001b[1;39;49m]\u001b[0m\u001b[39;49m To update, run: \u001b[0m\u001b[32;49mpython3 -m pip install --upgrade pip\u001b[0m\n",
      "Requirement already satisfied: beautifulsoup4 in /usr/local/lib/python3.8/dist-packages (4.12.0)\n",
      "Requirement already satisfied: soupsieve>1.2 in /usr/local/lib/python3.8/dist-packages (from beautifulsoup4) (2.4)\n",
      "\u001b[33mWARNING: Running pip as the 'root' user can result in broken permissions and conflicting behaviour with the system package manager. It is recommended to use a virtual environment instead: https://pip.pypa.io/warnings/venv\u001b[0m\u001b[33m\n",
      "\u001b[0m\n",
      "\u001b[1m[\u001b[0m\u001b[34;49mnotice\u001b[0m\u001b[1;39;49m]\u001b[0m\u001b[39;49m A new release of pip is available: \u001b[0m\u001b[31;49m23.0.1\u001b[0m\u001b[39;49m -> \u001b[0m\u001b[32;49m23.1.1\u001b[0m\n",
      "\u001b[1m[\u001b[0m\u001b[34;49mnotice\u001b[0m\u001b[1;39;49m]\u001b[0m\u001b[39;49m To update, run: \u001b[0m\u001b[32;49mpython3 -m pip install --upgrade pip\u001b[0m\n",
      "Requirement already satisfied: lxml in /usr/local/lib/python3.8/dist-packages (4.9.2)\n",
      "\u001b[33mWARNING: Running pip as the 'root' user can result in broken permissions and conflicting behaviour with the system package manager. It is recommended to use a virtual environment instead: https://pip.pypa.io/warnings/venv\u001b[0m\u001b[33m\n",
      "\u001b[0m\n",
      "\u001b[1m[\u001b[0m\u001b[34;49mnotice\u001b[0m\u001b[1;39;49m]\u001b[0m\u001b[39;49m A new release of pip is available: \u001b[0m\u001b[31;49m23.0.1\u001b[0m\u001b[39;49m -> \u001b[0m\u001b[32;49m23.1.1\u001b[0m\n",
      "\u001b[1m[\u001b[0m\u001b[34;49mnotice\u001b[0m\u001b[1;39;49m]\u001b[0m\u001b[39;49m To update, run: \u001b[0m\u001b[32;49mpython3 -m pip install --upgrade pip\u001b[0m\n"
     ]
    }
   ],
   "source": [
    "!pip install pydicom\n",
    "!pip install beautifulsoup4\n",
    "!pip install lxml"
   ]
  },
  {
   "cell_type": "code",
   "execution_count": 1,
   "id": "9489b164",
   "metadata": {},
   "outputs": [],
   "source": [
    "import pydicom\n",
    "import cv2\n",
    "import matplotlib.pyplot as plt\n",
    "from PIL import Image\n",
    "from IPython.display import display\n",
    "import pandas as pd\n",
    "import os\n",
    "import numpy as np\n",
    "import xml.etree.ElementTree as ET\n",
    "from bs4 import BeautifulSoup\n",
    "import json\n",
    "import csv\n",
    "from collections import defaultdict"
   ]
  },
  {
   "cell_type": "code",
   "execution_count": 2,
   "id": "294956f3",
   "metadata": {},
   "outputs": [],
   "source": [
    "def normalize_image(img_array):\n",
    "    norm_img_array = (img_array - img_array.min()) / \\\n",
    "        (img_array.max() - img_array.min()) * 255\n",
    "    return norm_img_array"
   ]
  },
  {
   "cell_type": "markdown",
   "id": "76f409e5",
   "metadata": {},
   "source": [
    "# CBIS-DDSM\n",
    "\n",
    "Import CBIS-DDSM dataset.\n",
    "There is two directories:\n",
    "- Folders with \\<Mass\\|Calc\\>_\\<Training\\|Test\\>_P_\\<Patient_id\\>_\\<Left\\|Right\\>_\\<CC\\|MLO\\>\\(_\\<N_Tumor\\>\\)\n",
    "    - Folders named with mammography_id:\n",
    "        - Folder type mammography 1.000000-\\<ROI\\|cropped\\|full\\>:\n",
    "            - File"
   ]
  },
  {
   "cell_type": "markdown",
   "id": "9ba4ae74",
   "metadata": {},
   "source": [
    "## Generate images png"
   ]
  },
  {
   "cell_type": "code",
   "execution_count": 26,
   "id": "5f048e48",
   "metadata": {},
   "outputs": [],
   "source": [
    "ROOT_DIR_DDSM=\"/tf/data/CBIS-DDSM\"\n",
    "OUTPUT_DIR_DDSM=\"/tf/data/Mammographies/CBIS-DDSM\""
   ]
  },
  {
   "cell_type": "code",
   "execution_count": 4,
   "id": "d4290a5b",
   "metadata": {},
   "outputs": [
    {
     "name": "stdout",
     "output_type": "stream",
     "text": [
      "6671\r"
     ]
    }
   ],
   "source": [
    "os.makedirs(OUTPUT_DIR_DDSM, exist_ok=True)\n",
    "\n",
    "count=0\n",
    "for (path, _, files) in os.walk(ROOT_DIR_DDSM, topdown=False):\n",
    "    for file in files:\n",
    "        if file.endswith(\".dcm\"):\n",
    "            file_path = os.path.join(path, file)\n",
    "            image = pydicom.dcmread(file_path).pixel_array\n",
    "            norm_img=normalize_image(image)\n",
    "            patient_id = file_path.split(\"/\")[4]\n",
    "\n",
    "            # If the word \"full\" is in the path, it means that it's the complete mammography\n",
    "            if \"full\" in file_path:\n",
    "                new_name = patient_id + \".png\"\n",
    "            else:\n",
    "                num_colors = len(np.unique(image).tolist())\n",
    "                if num_colors == 2:\n",
    "                    new_name = patient_id + \"_MASK\" + \".png\"\n",
    "                else:\n",
    "                    continue\n",
    "            cv2.imwrite(os.path.join(OUTPUT_DIR_DDSM, new_name),norm_img) \n",
    "            count+=1\n",
    "            print(count,flush=True,end=\"\\r\")       "
   ]
  },
  {
   "cell_type": "markdown",
   "id": "fff25ee6",
   "metadata": {},
   "source": [
    "## Generate ROI data"
   ]
  },
  {
   "cell_type": "markdown",
   "id": "77327ec5",
   "metadata": {},
   "source": [
    "First, data from csv are collected. This info will be used for classification."
   ]
  },
  {
   "cell_type": "code",
   "execution_count": 3,
   "id": "646ed681",
   "metadata": {},
   "outputs": [],
   "source": [
    "INPUT_CBIS_DDSM_INFO = [\n",
    "    \"/tf/data/CBIS-DDSM/mass_case_description_train_set.csv\",\n",
    "    \"/tf/data/CBIS-DDSM/mass_case_description_test_set.csv\",\n",
    "    \"/tf/data/CBIS-DDSM/calc_case_description_train_set.csv\",\n",
    "    \"/tf/data/CBIS-DDSM/calc_case_description_test_set.csv\"\n",
    "]"
   ]
  },
  {
   "cell_type": "code",
   "execution_count": 4,
   "id": "2eb617fb",
   "metadata": {},
   "outputs": [],
   "source": [
    "type_2_type= {'CIRC': \"Mass\",\n",
    "              'MISC': \"Unknown\",\n",
    "              'ASYM': \"Assymetry\",\n",
    "              'ARCH': \"Distortion\",\n",
    "              'SPIC': \"Spiculated Region\",\n",
    "              'CALC': \"Calcification\",\n",
    "              'Calcification': \"Calcification\",\n",
    "              'Spiculated Region': \"Spiculated Region\",\n",
    "              'Mass': \"Mass\",\n",
    "              'Cluster': \"Cluster\",\n",
    "              'Assymetry': \"Assymetry\",\n",
    "              'Asymmetry': \"Assymetry\",\n",
    "              'Distortion': \"Distortion\",\n",
    "              'Calcifications': \"Calcification\",\n",
    "              'Unnamed': \"Unknown\",\n",
    "              'Point 3': \"Unknown\",\n",
    "              'Point 1': \"Unknown\",\n",
    "              'Spiculated region': \"Spiculated Region\",\n",
    "              '': \"Unknown\",\n",
    "              'Calc': \"Calcification\",\n",
    "              'Espiculated Region': \"Spiculated Region\"}\n",
    "\n",
    "pathology_2_pathology = {\"BENIGN\": \"B\",\n",
    "                         \"BENIGN_WITHOUT_CALLBACK\": \"B\",\n",
    "                         \"MALIGNANT\": \"M\",\n",
    "                         \"B\": \"B\",\n",
    "                         \"M\": \"M\"\n",
    "                        }"
   ]
  },
  {
   "cell_type": "code",
   "execution_count": 40,
   "id": "60732b21",
   "metadata": {},
   "outputs": [],
   "source": [
    "abnormalities_info={}\n",
    "\n",
    "for file in INPUT_CBIS_DDSM_INFO:\n",
    "    with open(file, 'r') as csvfile:\n",
    "        csv_container = csv.reader(csvfile, delimiter=',')\n",
    "        header = next(csv_container)\n",
    "        for row in csv_container: \n",
    "            key = row[-1].split(\"/\")[0]+\"_MASK\"\n",
    "            abnormalities_info[key]={\"BI-RADS\": int(row[10]), \"pathology\": pathology_2_pathology[row[9]]}"
   ]
  },
  {
   "cell_type": "markdown",
   "id": "c1916915",
   "metadata": {},
   "source": [
    "Then, images, ROI coordinates are added with the previous info about each abnormality in a single dictionary"
   ]
  },
  {
   "cell_type": "code",
   "execution_count": 5,
   "id": "6a58aabe",
   "metadata": {},
   "outputs": [],
   "source": [
    "def get_roi_area(img_path):\n",
    "    img = cv2.imread(img_path)\n",
    "    \n",
    "    gray = cv2.cvtColor(img, cv2.COLOR_BGR2GRAY)\n",
    "    \n",
    "    contours, _ = cv2.findContours(\n",
    "        gray, cv2.RETR_EXTERNAL,  cv2.CHAIN_APPROX_SIMPLE)\n",
    "    \n",
    "    max_contour = max(contours, key=cv2.contourArea)\n",
    "    \n",
    "    # x, y, w, h\n",
    "    rect = cv2.boundingRect(max_contour)\n",
    "    \n",
    "    return rect\n",
    "\n",
    "def find_nth_last(full_string, sub_string, n):\n",
    "    start = full_string.rfind(sub_string)\n",
    "    while start >= 0 and n > 0:\n",
    "        start = full_string.rfind(sub_string, 0, start)\n",
    "        n -= 1\n",
    "    return start\n",
    "\n",
    "def generate_key_and_type(filename):\n",
    "    return file[:find_nth_last(file,\"_\",1)], file.split(\"-\")[0]\n",
    "\n",
    "def generate_info_dict(type_abnormality, roi, pathology, birads):\n",
    "    return {\"type\": type_2_type[type_abnormality],\n",
    "            \"x\":roi[0],\n",
    "            \"y\":roi[1],\n",
    "            \"w\":roi[2],\n",
    "            \"h\":roi[3],\n",
    "            \"pathology\": pathology_2_pathology[pathology],\n",
    "            \"BI-RADS\": birads\n",
    "           }\n"
   ]
  },
  {
   "cell_type": "code",
   "execution_count": 48,
   "id": "6b2a3514",
   "metadata": {},
   "outputs": [
    {
     "name": "stdout",
     "output_type": "stream",
     "text": [
      "3567\r"
     ]
    }
   ],
   "source": [
    "rois_coordinates=defaultdict(list)\n",
    "\n",
    "for (path, _, files) in os.walk(OUTPUT_DIR_DDSM, topdown=False):\n",
    "    for file in files:\n",
    "        if \"MASK\" in file:\n",
    "            file_path = os.path.join(path, file)\n",
    "            key, type_abnormality = generate_key_and_type(file)\n",
    "            roi=get_roi_area(file_path)\n",
    "            info_file = abnormalities_info[file[:-4]]\n",
    "            info = generate_info_dict(type_abnormality, roi, info_file[\"pathology\"], info_file[\"BI-RADS\"])\n",
    "            \n",
    "            rois_coordinates[key].append(info)"
   ]
  },
  {
   "cell_type": "code",
   "execution_count": 49,
   "id": "81f640ca",
   "metadata": {},
   "outputs": [],
   "source": [
    "with open(os.path.join(OUTPUT_DIR_DDSM, \"roi_images.json\"), 'w') as fp:\n",
    "    json.dump(rois_coordinates, fp)"
   ]
  },
  {
   "cell_type": "markdown",
   "id": "3087985a",
   "metadata": {},
   "source": [
    "# MIAS DATASET\n",
    "Import MIAS dataset.\n",
    "\n",
    "It contains:\n",
    "- <b>Info.txt</b>: contains info about each photo:\n",
    "    - photo reference\n",
    "    - type of bacground tissue\n",
    "        - F: Fatty\n",
    "        - G: Fatty-glandular\n",
    "        - D: Dense-glandular)\n",
    "    - Type of abnormality present \n",
    "        - CALC: Calcification\n",
    "        - CIRC: Well-defined/circumscribed masses\n",
    "        - SPIC: Spiculated masses\n",
    "        - MISC: Other, ill-defined masses\n",
    "        - ARCH: Architectural distortion\n",
    "        - ASYM: Asymmetry\n",
    "        - NORM: Normal\n",
    "    - Severity of abnormality\n",
    "        - B: Benign\n",
    "        - M: Malignant\n",
    "    - X Coordinate of center of abnomality\n",
    "    - Y Coordinate of center of abnomality (<b>ATTENTION</b>! The system coordinates has its origin in the bottom-left corner. This coordinate should be recalculated)\n",
    "    - Radius size (in pixels) of abnormality\n",
    "    \n",
    "    \n",
    "- <b>all-mias</b>: contains all images in .pgm format"
   ]
  },
  {
   "cell_type": "markdown",
   "id": "724f9ab7",
   "metadata": {},
   "source": [
    "## Generate images png"
   ]
  },
  {
   "cell_type": "code",
   "execution_count": 9,
   "id": "60a5dd9e",
   "metadata": {},
   "outputs": [],
   "source": [
    "ROOT_DIR_MIAS=\"/tf/data/MIAS/all-mias\"\n",
    "OUTPUT_DIR_MIAS=\"/tf/data/Mammographies/MIAS\""
   ]
  },
  {
   "cell_type": "code",
   "execution_count": 7,
   "id": "edbba5ff",
   "metadata": {},
   "outputs": [],
   "source": [
    "os.makedirs(OUTPUT_DIR_MIAS, exist_ok=True)\n",
    "\n",
    "for file in os.listdir(ROOT_DIR_MIAS):\n",
    "    if file.endswith(\".pgm\"):\n",
    "        img = cv2.imread(os.path.join(ROOT_DIR_MIAS,file),-1)\n",
    "        norm_img=normalize_image(img)\n",
    "        cv2.imwrite(os.path.join(OUTPUT_DIR_MIAS, file)[:-4]+\".png\",norm_img)"
   ]
  },
  {
   "cell_type": "markdown",
   "id": "1dbfa9de",
   "metadata": {},
   "source": [
    "## Generate ROI data"
   ]
  },
  {
   "cell_type": "code",
   "execution_count": 18,
   "id": "b6ab4f6f",
   "metadata": {},
   "outputs": [],
   "source": [
    "def generate_roi_from_circle(x_center, y_center, diam):\n",
    "    return [\n",
    "        x_center-diam if x_center-diam >0 else x_center-diam/2,\n",
    "        y_center-diam if y_center-diam >0 else y_center-diam/2,\n",
    "        diam + int(diam/2) if x_center+diam + int(diam/2) < 1024 else diam,\n",
    "        diam + int(diam/2) if y_center+diam + int(diam/2) < 1024 else diam,\n",
    "    ]"
   ]
  },
  {
   "cell_type": "code",
   "execution_count": 19,
   "id": "b718bb3e",
   "metadata": {},
   "outputs": [],
   "source": [
    "INPUT_MIAS_INFO=\"/tf/data/MIAS/Info.txt\"\n",
    "\n",
    "bm_2_birads = {\n",
    "    \"B\": \"2\",\n",
    "    \"M\": \"4a\"\n",
    "}\n",
    "\n",
    "rois_coordinates=defaultdict(list)\n",
    "\n",
    "with open(INPUT_MIAS_INFO, 'r') as csvfile:\n",
    "    csv_container = csv.reader(csvfile, delimiter=' ')\n",
    "    header = next(csv_container)\n",
    "    for i, row in enumerate(csv_container):         \n",
    "        type_abnormality=row[2]\n",
    "        if type_abnormality != \"NORM\" and len(row)>5:\n",
    "            x_center=float(row[-3])\n",
    "            y_center=1024-float(row[-2]) # this is the height of all images, this move the origin\n",
    "            diam=float(row[-1])\n",
    "            \n",
    "            roi=generate_roi_from_circle(x_center,y_center,diam)\n",
    "            info = generate_info_dict(type_abnormality, roi, row[3], bm_2_birads[row[3]])\n",
    "            key=row[0]\n",
    "            rois_coordinates[key].append(info)"
   ]
  },
  {
   "cell_type": "code",
   "execution_count": 20,
   "id": "91908a3d",
   "metadata": {},
   "outputs": [],
   "source": [
    "with open(os.path.join(OUTPUT_DIR_MIAS, \"roi_images.json\"), 'w') as fp:\n",
    "    json.dump(rois_coordinates, fp)"
   ]
  },
  {
   "cell_type": "markdown",
   "id": "6fd21cd4",
   "metadata": {},
   "source": [
    "# INBreast\n",
    "\n",
    "INBreast contains multiple folders and files:\n",
    "- AllDICOMs: dicom files (the name of the file is \\<mammography_id\\>_\\<patient_id\\>_MG_\\<laterality\\>_\\<type_of_view\\>_ANON where laterality could be \"R\" or \"L\" and type_of_view \"CC\" or \"ML\"\n",
    "- AllROI: ROIs of different dicoms in .roi format (format form Osirix, not useful for code)\n",
    "- AllXML: the same info as in the previous field of the ROI but in xml format\n",
    "- MedicalReport: anotations of the patients done by the expert (the name of the file is the patient id)\n",
    "- PectoralMuscle: contains two folders with a similar xml structure for the boudaries of the pectoral muscle\n",
    "- inbreast.pdf: pdf of the INbreast article\n",
    "- INbreast.csv and INbreast.xls: summary of the scans done.\n"
   ]
  },
  {
   "cell_type": "markdown",
   "id": "aac0ed97",
   "metadata": {},
   "source": [
    "## Generate images png"
   ]
  },
  {
   "cell_type": "code",
   "execution_count": 78,
   "id": "07f40d52",
   "metadata": {},
   "outputs": [],
   "source": [
    "ROOT_DIR_INBREAST=\"/tf/data/INbreast/AllDICOMs\"\n",
    "INPUT_INBREAST_INFO=\"/tf/data/INbreast/INbreast.csv\"\n",
    "OUTPUT_DIR_INBREAST=\"/tf/data/Mammographies/INBreast\""
   ]
  },
  {
   "cell_type": "code",
   "execution_count": 10,
   "id": "4d8c3392",
   "metadata": {},
   "outputs": [],
   "source": [
    "os.makedirs(OUTPUT_DIR_INBREAST, exist_ok=True)\n",
    "\n",
    "inbreast_images = []\n",
    "for file in os.listdir(ROOT_DIR_INBREAST):\n",
    "    if file.endswith(\".dcm\"):\n",
    "        img = pydicom.dcmread(os.path.join(ROOT_DIR_INBREAST,file)).pixel_array\n",
    "        norm_img=normalize_image(img)\n",
    "        name=file.split(\"_\")[0]+\".png\"\n",
    "        cv2.imwrite(os.path.join(OUTPUT_DIR_INBREAST, name),norm_img)"
   ]
  },
  {
   "cell_type": "markdown",
   "id": "e54cf61b",
   "metadata": {},
   "source": [
    "## Generate ROI data"
   ]
  },
  {
   "cell_type": "code",
   "execution_count": 69,
   "id": "e3353303",
   "metadata": {},
   "outputs": [],
   "source": [
    "def gen_dict(soup):\n",
    "    if soup.name is None:\n",
    "        return\n",
    "    #check if iterable\n",
    "    if soup.name == \"integer\":\n",
    "        return int(soup.text)\n",
    "    if soup.name == \"real\":\n",
    "        return float(soup.text)\n",
    "    if soup.name == \"string\":\n",
    "        if soup.text.startswith(\"(\"):\n",
    "            points={}\n",
    "            coords = [\"x\",\"y\",\"z\"]\n",
    "            for i, point in enumerate(soup.text[1:-1].split(\",\")):\n",
    "                points[coords[i]]=point\n",
    "            return points\n",
    "        return soup.text                \n",
    "    if soup.name == \"array\":\n",
    "        return list(filter(lambda x: x is not None, [gen_dict(el) for el in soup]))\n",
    "    if soup.name == \"dict\":\n",
    "        main_dict = {}\n",
    "        for el in soup: \n",
    "            if el.name == \"key\":\n",
    "                next_sibling = None\n",
    "                while next_sibling is None:\n",
    "                    next_sibling = el.find_next_sibling()\n",
    "                main_dict[el.text]=gen_dict(next_sibling)\n",
    "        return main_dict\n",
    "\n",
    "def xml_to_dict(soup):\n",
    "    return gen_dict(soup.plist.dict.array.dict)"
   ]
  },
  {
   "cell_type": "code",
   "execution_count": 70,
   "id": "46808cf5",
   "metadata": {},
   "outputs": [],
   "source": [
    "ROOT_INBREAST_XML=\"/tf/data/INbreast/AllXML\"\n",
    "\n",
    "info_images=[]\n",
    "for file in os.listdir(ROOT_INBREAST_XML):\n",
    "    if file.endswith(\".xml\"):\n",
    "        with open(os.path.join(ROOT_INBREAST_XML,file), 'r') as f:\n",
    "            data = f.read()\n",
    "        soup = BeautifulSoup(data, 'xml') \n",
    "        info_dict = xml_to_dict(soup)\n",
    "        info_dict[\"id\"]=file[0:-4]\n",
    "        info_images.append(info_dict)"
   ]
  },
  {
   "cell_type": "markdown",
   "id": "177d8bf1",
   "metadata": {},
   "source": [
    "Some of the ROIs are to small (Area is 0.0, which means it's so small, and only has one point to mark the abnormality). A default zone is created, centered on the provided coordinates, with a size of 5x5 pixels in the final json file or adjust the area that fits in the image shape."
   ]
  },
  {
   "cell_type": "code",
   "execution_count": 71,
   "id": "601b4792",
   "metadata": {},
   "outputs": [
    {
     "data": {
      "text/plain": [
       "{'ImageIndex': 0,\n",
       " 'NumberOfROIs': 6,\n",
       " 'ROIs': [{'Area': 0.0,\n",
       "   'Center': {'x': '0.000000', 'y': ' 0.000000', 'z': ' 0.000000'},\n",
       "   'Dev': 0.0,\n",
       "   'IndexInImage': 0,\n",
       "   'Max': 1619.0,\n",
       "   'Mean': 1619.0,\n",
       "   'Min': 1619.0,\n",
       "   'Name': 'Calcification',\n",
       "   'NumberOfPoints': 1,\n",
       "   'Point_mm': [{'x': '0.000000', 'y': ' 0.000000', 'z': ' 0.000000'}],\n",
       "   'Point_px': [{'x': '132.378006', 'y': ' 2200.719971'}],\n",
       "   'Total': 1619.0,\n",
       "   'Type': 19},\n",
       "  {'Area': 0.003521109465509653,\n",
       "   'Center': {'x': '0.000000', 'y': ' 0.000000', 'z': ' 0.000000'},\n",
       "   'Dev': 53.59735870361328,\n",
       "   'IndexInImage': 1,\n",
       "   'Max': 1425.0,\n",
       "   'Mean': 1311.7840576171875,\n",
       "   'Min': 1172.0,\n",
       "   'Name': 'Calcification',\n",
       "   'NumberOfPoints': 5,\n",
       "   'Point_mm': [{'x': '0.000000', 'y': ' 0.000000', 'z': ' 0.000000'},\n",
       "    {'x': '0.000000', 'y': ' 0.000000', 'z': ' 0.000000'},\n",
       "    {'x': '0.000000', 'y': ' 0.000000', 'z': ' 0.000000'},\n",
       "    {'x': '0.000000', 'y': ' 0.000000', 'z': ' 0.000000'},\n",
       "    {'x': '0.000000', 'y': ' 0.000000', 'z': ' 0.000000'}],\n",
       "   'Point_px': [{'x': '151.903000', 'y': ' 1796.209961'},\n",
       "    {'x': '157.063004', 'y': ' 1792.339966'},\n",
       "    {'x': '160.610001', 'y': ' 1797.500000'},\n",
       "    {'x': '157.063004', 'y': ' 1802.660034'},\n",
       "    {'x': '153.192993', 'y': ' 1801.369995'}],\n",
       "   'Total': 115437.0,\n",
       "   'Type': 15},\n",
       "  {'Area': 0.0,\n",
       "   'Center': {'x': '0.000000', 'y': ' 0.000000', 'z': ' 0.000000'},\n",
       "   'Dev': 0.0,\n",
       "   'IndexInImage': 2,\n",
       "   'Max': 1404.0,\n",
       "   'Mean': 1404.0,\n",
       "   'Min': 1404.0,\n",
       "   'Name': 'Calcification',\n",
       "   'NumberOfPoints': 1,\n",
       "   'Point_mm': [{'x': '0.000000', 'y': ' 0.000000', 'z': ' 0.000000'}],\n",
       "   'Point_px': [{'x': '129.673996', 'y': ' 1302.430054'}],\n",
       "   'Total': 1404.0,\n",
       "   'Type': 19},\n",
       "  {'Area': 0.0,\n",
       "   'Center': {'x': '0.000000', 'y': ' 0.000000', 'z': ' 0.000000'},\n",
       "   'Dev': 0.0,\n",
       "   'IndexInImage': 3,\n",
       "   'Max': 0.0,\n",
       "   'Mean': 0.0,\n",
       "   'Min': 0.0,\n",
       "   'Name': 'Calcification',\n",
       "   'NumberOfPoints': 1,\n",
       "   'Point_mm': [{'x': '0.000000', 'y': ' 0.000000', 'z': ' 0.000000'}],\n",
       "   'Point_px': [{'x': '385.009003', 'y': ' 537.716980'}],\n",
       "   'Total': 0.0,\n",
       "   'Type': 19},\n",
       "  {'Area': 0.0,\n",
       "   'Center': {'x': '0.000000', 'y': ' 0.000000', 'z': ' 0.000000'},\n",
       "   'Dev': 0.0,\n",
       "   'IndexInImage': 4,\n",
       "   'Max': 1159.0,\n",
       "   'Mean': 1159.0,\n",
       "   'Min': 1159.0,\n",
       "   'Name': 'Calcification',\n",
       "   'NumberOfPoints': 1,\n",
       "   'Point_mm': [{'x': '0.000000', 'y': ' 0.000000', 'z': ' 0.000000'}],\n",
       "   'Point_px': [{'x': '216.294006', 'y': ' 1235.199951'}],\n",
       "   'Total': 1159.0,\n",
       "   'Type': 19},\n",
       "  {'Area': 0.05281587690114975,\n",
       "   'Center': {'x': '0.000000', 'y': ' 0.000000', 'z': ' 0.000000'},\n",
       "   'Dev': 0.0,\n",
       "   'IndexInImage': 5,\n",
       "   'Max': 0.0,\n",
       "   'Mean': 0.0,\n",
       "   'Min': 0.0,\n",
       "   'Name': 'Calcification',\n",
       "   'NumberOfPoints': 25,\n",
       "   'Point_mm': [{'x': '0.000000', 'y': ' 0.000000', 'z': ' 0.000000'},\n",
       "    {'x': '0.000000', 'y': ' 0.000000', 'z': ' 0.000000'},\n",
       "    {'x': '0.000000', 'y': ' 0.000000', 'z': ' 0.000000'},\n",
       "    {'x': '0.000000', 'y': ' 0.000000', 'z': ' 0.000000'},\n",
       "    {'x': '0.000000', 'y': ' 0.000000', 'z': ' 0.000000'},\n",
       "    {'x': '0.000000', 'y': ' 0.000000', 'z': ' 0.000000'},\n",
       "    {'x': '0.000000', 'y': ' 0.000000', 'z': ' 0.000000'},\n",
       "    {'x': '0.000000', 'y': ' 0.000000', 'z': ' 0.000000'},\n",
       "    {'x': '0.000000', 'y': ' 0.000000', 'z': ' 0.000000'},\n",
       "    {'x': '0.000000', 'y': ' 0.000000', 'z': ' 0.000000'},\n",
       "    {'x': '0.000000', 'y': ' 0.000000', 'z': ' 0.000000'},\n",
       "    {'x': '0.000000', 'y': ' 0.000000', 'z': ' 0.000000'},\n",
       "    {'x': '0.000000', 'y': ' 0.000000', 'z': ' 0.000000'},\n",
       "    {'x': '0.000000', 'y': ' 0.000000', 'z': ' 0.000000'},\n",
       "    {'x': '0.000000', 'y': ' 0.000000', 'z': ' 0.000000'},\n",
       "    {'x': '0.000000', 'y': ' 0.000000', 'z': ' 0.000000'},\n",
       "    {'x': '0.000000', 'y': ' 0.000000', 'z': ' 0.000000'},\n",
       "    {'x': '0.000000', 'y': ' 0.000000', 'z': ' 0.000000'},\n",
       "    {'x': '0.000000', 'y': ' 0.000000', 'z': ' 0.000000'},\n",
       "    {'x': '0.000000', 'y': ' 0.000000', 'z': ' 0.000000'},\n",
       "    {'x': '0.000000', 'y': ' 0.000000', 'z': ' 0.000000'},\n",
       "    {'x': '0.000000', 'y': ' 0.000000', 'z': ' 0.000000'},\n",
       "    {'x': '0.000000', 'y': ' 0.000000', 'z': ' 0.000000'},\n",
       "    {'x': '0.000000', 'y': ' 0.000000', 'z': ' 0.000000'},\n",
       "    {'x': '0.000000', 'y': ' 0.000000', 'z': ' 0.000000'}],\n",
       "   'Point_px': [{'x': '1157.849976', 'y': ' 2326.550049'},\n",
       "    {'x': '1158.589966', 'y': ' 2320.669922'},\n",
       "    {'x': '1163.310059', 'y': ' 2319.409912'},\n",
       "    {'x': '1168.040039', 'y': ' 2317.840088'},\n",
       "    {'x': '1172.760010', 'y': ' 2316.260010'},\n",
       "    {'x': '1177.689941', 'y': ' 2316.530029'},\n",
       "    {'x': '1182.609985', 'y': ' 2317.510010'},\n",
       "    {'x': '1186.930054', 'y': ' 2318.489990'},\n",
       "    {'x': '1191.449951', 'y': ' 2320.060059'},\n",
       "    {'x': '1194.489990', 'y': ' 2324.449951'},\n",
       "    {'x': '1194.810059', 'y': ' 2329.489990'},\n",
       "    {'x': '1196.380005', 'y': ' 2334.209961'},\n",
       "    {'x': '1201.270020', 'y': ' 2332.830078'},\n",
       "    {'x': '1204.609985', 'y': ' 2336.560059'},\n",
       "    {'x': '1205.510010', 'y': ' 2341.139893'},\n",
       "    {'x': '1203.619995', 'y': ' 2345.870117'},\n",
       "    {'x': '1199.219971', 'y': ' 2350.590088'},\n",
       "    {'x': '1194.180054', 'y': ' 2351.850098'},\n",
       "    {'x': '1189.449951', 'y': ' 2352.169922'},\n",
       "    {'x': '1186.300049', 'y': ' 2349.649902'},\n",
       "    {'x': '1179.369995', 'y': ' 2348.699951'},\n",
       "    {'x': '1174.650024', 'y': ' 2344.919922'},\n",
       "    {'x': '1171.500000', 'y': ' 2340.199951'},\n",
       "    {'x': '1166.689941', 'y': ' 2336.169922'},\n",
       "    {'x': '1162.569946', 'y': ' 2331.260010'}],\n",
       "   'Total': 0.0,\n",
       "   'Type': 15}],\n",
       " 'id': '50998413'}"
      ]
     },
     "execution_count": 71,
     "metadata": {},
     "output_type": "execute_result"
    }
   ],
   "source": [
    "info_images[0]"
   ]
  },
  {
   "cell_type": "code",
   "execution_count": 66,
   "id": "d5e44fe7",
   "metadata": {},
   "outputs": [],
   "source": [
    "image_2_size = {}\n",
    "\n",
    "for (path, _, files) in os.walk(OUTPUT_DIR_INBREAST, topdown=False):\n",
    "    for file in files:\n",
    "        if file.endswith(\".png\"):\n",
    "            file_path = os.path.join(path, file)\n",
    "            image = cv2.imread(file_path)\n",
    "            image_2_size[file[:-4]] = image.shape"
   ]
  },
  {
   "cell_type": "code",
   "execution_count": 100,
   "id": "fe9a75ee",
   "metadata": {},
   "outputs": [],
   "source": [
    "def check_box_inside_image(box, image_shape):\n",
    "    diff_x = box[0] + box[2] - image_shape[1]\n",
    "    diff_y = box[1] + box[3] - image_shape[0]\n",
    "    \n",
    "    if diff_x > 0:\n",
    "        box[0] = image_shape[1] - box[2]\n",
    "    if diff_y > 0:\n",
    "        box[1] = image_shape[0] - box[3]\n",
    "    if box[0] < 0:\n",
    "        x = 0\n",
    "    if box[1] < 0:\n",
    "        y = 0\n",
    "        \n",
    "    return [box[0], box[1], box[2], box[3]]"
   ]
  },
  {
   "cell_type": "code",
   "execution_count": 96,
   "id": "31f8cbd4",
   "metadata": {},
   "outputs": [],
   "source": [
    "def generate_roi_from_coordinates_list(coords, image_shape):\n",
    "    min_x = np.min([float(i[\"x\"]) for i in coords])\n",
    "    max_x = np.max([float(i[\"x\"]) for i in coords])\n",
    "    min_y = np.min([float(i[\"y\"]) for i in coords])\n",
    "    max_y = np.max([float(i[\"y\"]) for i in coords])\n",
    "    w = int(max_x - min_x)\n",
    "    h = int(max_y - min_y)\n",
    "    w = 5 if w==0 else w\n",
    "    h = 5 if h==0 else h\n",
    "    return check_box_inside_image([int(min_x), int(min_y), w, h], image_shape)"
   ]
  },
  {
   "cell_type": "markdown",
   "id": "6a28633e",
   "metadata": {},
   "source": [
    "We need to read the info from the csv to added in the final dictionary."
   ]
  },
  {
   "cell_type": "code",
   "execution_count": 93,
   "id": "993f42f7",
   "metadata": {},
   "outputs": [],
   "source": [
    "birads_2_bm = {\"1\": \"B\",\n",
    "               \"2\": \"B\",\n",
    "               \"3\": \"B\",\n",
    "               \"4a\":\"B\",\n",
    "               \"4b\":\"B\",\n",
    "               \"4c\":\"M\",\n",
    "               \"5\":\"M\",\n",
    "               \"6\":\"M\",\n",
    "              }"
   ]
  },
  {
   "cell_type": "code",
   "execution_count": 94,
   "id": "184e2edf",
   "metadata": {},
   "outputs": [],
   "source": [
    "abnormalities_info={}\n",
    "\n",
    "with open(INPUT_INBREAST_INFO, 'r') as csvfile:\n",
    "    csv_container = csv.reader(csvfile, delimiter=';')\n",
    "    header = next(csv_container)\n",
    "    for row in csv_container: \n",
    "        key = row[5]\n",
    "        abnormalities_info[key]={\"BI-RADS\": row[7], \"pathology\": pathology_2_pathology[birads_2_bm[row[7]]]}"
   ]
  },
  {
   "cell_type": "code",
   "execution_count": 101,
   "id": "168e8139",
   "metadata": {},
   "outputs": [],
   "source": [
    "rois_coordinates=defaultdict(list)\n",
    "\n",
    "for mammography_info in info_images:\n",
    "    for roi in mammography_info[\"ROIs\"]:\n",
    "        roi_rectangle = generate_roi_from_coordinates_list(roi[\"Point_px\"], image_2_size[mammography_info[\"id\"]])\n",
    "        info_file = abnormalities_info[mammography_info[\"id\"]]\n",
    "        info = generate_info_dict(roi[\"Name\"], roi_rectangle, info_file[\"pathology\"], info_file[\"BI-RADS\"])\n",
    "        rois_coordinates[mammography_info[\"id\"]].append(info)      "
   ]
  },
  {
   "cell_type": "code",
   "execution_count": null,
   "id": "eae53ab2",
   "metadata": {},
   "outputs": [],
   "source": [
    "with open(os.path.join(OUTPUT_DIR_INBREAST, \"roi_images.json\"), 'w') as fp:\n",
    "    json.dump(rois_coordinates, fp)   "
   ]
  },
  {
   "cell_type": "markdown",
   "id": "9db8459d",
   "metadata": {},
   "source": [
    "Check the types of abnormalities"
   ]
  },
  {
   "cell_type": "code",
   "execution_count": 102,
   "id": "167b0ec1",
   "metadata": {},
   "outputs": [
    {
     "data": {
      "text/plain": [
       "defaultdict(int,\n",
       "            {'Calcification': 7143,\n",
       "             'Spiculated Region': 16,\n",
       "             'Mass': 116,\n",
       "             'Cluster': 27,\n",
       "             'Assymetry': 6,\n",
       "             'Distortion': 3,\n",
       "             'Unknown': 5})"
      ]
     },
     "execution_count": 102,
     "metadata": {},
     "output_type": "execute_result"
    }
   ],
   "source": [
    "types_ab = defaultdict(int)\n",
    "for k, rois in rois_coordinates.items():\n",
    "    for roi in rois:\n",
    "        types_ab[roi[\"type\"]] += 1\n",
    "types_ab"
   ]
  },
  {
   "cell_type": "markdown",
   "id": "47d5669e",
   "metadata": {},
   "source": [
    "We can get some examples of each abnormality in the photos with its coordinates"
   ]
  },
  {
   "cell_type": "code",
   "execution_count": 103,
   "id": "fe8578e0",
   "metadata": {},
   "outputs": [
    {
     "name": "stdout",
     "output_type": "stream",
     "text": [
      "Calcification found in image 50998413 in coords 132, 2200, and size 5x5\n",
      "Spiculated Region found in image 50998981 in coords 1975, 872, and size 378x550\n",
      "Mass found in image 50998981 in coords 2070, 1112, and size 190x193\n",
      "Cluster found in image 22579916 in coords 745, 1568, and size 164x166\n",
      "Assymetry found in image 24065461 in coords 2175, 1825, and size 1045x994\n",
      "Distortion found in image 50998634 in coords 204, 1316, and size 508x452\n",
      "Unknown found in image 20587174 in coords 277, 1794, and size 12x13\n"
     ]
    }
   ],
   "source": [
    "for type_ab in types_ab.keys():\n",
    "    for k, rois in rois_coordinates.items():\n",
    "        for roi in rois:\n",
    "            if roi[\"type\"] == type_ab:\n",
    "                print(f\"{type_ab} found in image {k} in coords {roi['x']}, {roi['y']}, and size {roi['w']}x{roi['h']}\")\n",
    "                break\n",
    "        else:\n",
    "            continue\n",
    "        break\n",
    "                "
   ]
  }
 ],
 "metadata": {
  "kernelspec": {
   "display_name": "Python 3 (ipykernel)",
   "language": "python",
   "name": "python3"
  },
  "language_info": {
   "codemirror_mode": {
    "name": "ipython",
    "version": 3
   },
   "file_extension": ".py",
   "mimetype": "text/x-python",
   "name": "python",
   "nbconvert_exporter": "python",
   "pygments_lexer": "ipython3",
   "version": "3.8.10"
  }
 },
 "nbformat": 4,
 "nbformat_minor": 5
}
