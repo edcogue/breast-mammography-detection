{
 "cells": [
  {
   "cell_type": "code",
   "execution_count": 75,
   "id": "b52c7787",
   "metadata": {},
   "outputs": [],
   "source": [
    "import numpy as np\n",
    "import os\n",
    "import json\n",
    "import tensorflow as tf\n",
    "import albumentations as albu\n",
    "import cv2\n",
    "from n2v.models import N2V\n",
    "import matplotlib.pyplot as plt\n",
    "import cv2\n",
    "from skimage.restoration import estimate_sigma"
   ]
  },
  {
   "cell_type": "code",
   "execution_count": 76,
   "id": "68fcd7e7",
   "metadata": {},
   "outputs": [],
   "source": [
    "def estimate_noise(image_path):\n",
    "    img = cv2.imread(image_path)\n",
    "    return estimate_sigma(img, average_sigmas=True)"
   ]
  },
  {
   "cell_type": "code",
   "execution_count": 77,
   "id": "4fa57ba2",
   "metadata": {},
   "outputs": [
    {
     "name": "stderr",
     "output_type": "stream",
     "text": [
      "/tmp/ipykernel_31/1110173647.py:3: UserWarning: image is size 3 on the last axis, but channel_axis is None. If this is a color image, please set channel_axis=-1 for proper noise estimation.\n",
      "  return estimate_sigma(img, average_sigmas=True)\n"
     ]
    },
    {
     "name": "stdout",
     "output_type": "stream",
     "text": [
      "Noise of input_n2v_4.png image 1.6460191193452567e-16\n",
      "Noise of denoised input_n2v_4.png image 8.230095596726284e-17\n",
      "+++++++++++++\n",
      "Noise of input_n2v_1.png image 5.0721880175694995e-49\n",
      "Noise of denoised input_n2v_1.png image 5.0721880175694995e-49\n",
      "+++++++++++++\n",
      "Noise of input_n2v_3.png image 2.5360940087847498e-49\n",
      "Noise of denoised input_n2v_3.png image 2.5360940087847498e-49\n",
      "+++++++++++++\n",
      "Noise of input_n2v_2.png image 4.0577504140555996e-48\n",
      "Noise of denoised input_n2v_2.png image 4.0577504140555996e-48\n",
      "+++++++++++++\n",
      "Noise of input_n2v_9.png image 1.0144376035138999e-48\n",
      "Noise of denoised input_n2v_9.png image 1.0144376035138999e-48\n",
      "+++++++++++++\n",
      "Noise of input_n2v_7.png image 1.0287619495907855e-17\n",
      "Noise of denoised input_n2v_7.png image 1.0287619495907855e-17\n",
      "+++++++++++++\n",
      "Noise of input_n2v_5.png image 1.2680470043923749e-49\n",
      "Noise of denoised input_n2v_5.png image 1.2680470043923749e-49\n",
      "+++++++++++++\n",
      "Noise of input_n2v_10.png image 1.0144376035138999e-48\n",
      "Noise of denoised input_n2v_10.png image 1.0144376035138999e-48\n",
      "+++++++++++++\n",
      "Noise of input_n2v_8.png image 2.0288752070277998e-48\n",
      "Noise of denoised input_n2v_8.png image 2.0288752070277998e-48\n",
      "+++++++++++++\n",
      "Noise of input_n2v_6.png image 5.0721880175694995e-49\n",
      "Noise of denoised input_n2v_6.png image 5.0721880175694995e-49\n",
      "+++++++++++++\n"
     ]
    }
   ],
   "source": [
    "n_inputs=0\n",
    "root_dir = \"/kaggle/working\"\n",
    "input_noise=[]\n",
    "denoised_noise=[]\n",
    "for file in os.listdir(root_dir):\n",
    "    if \"input\" in file:\n",
    "        input_noise.append(estimate_noise(os.path.join(root_dir, file)))\n",
    "        denoised_noise.append(estimate_noise(os.path.join(root_dir,file.replace('input', 'predict'))))\n",
    "        print(f\"Noise of {file} image {input_noise[-1]}\")\n",
    "        print(f\"Noise of denoised {file} image {denoised_noise[-1]}\")\n",
    "        print(\"+++++++++++++\")"
   ]
  },
  {
   "cell_type": "code",
   "execution_count": 116,
   "id": "49d54971",
   "metadata": {},
   "outputs": [
    {
     "data": {
      "image/png": "[encoded data removed]",
      "text/plain": [
       "<Figure size 1000x500 with 1 Axes>"
      ]
     },
     "metadata": {},
     "output_type": "display_data"
    }
   ],
   "source": [
    "# Position of bars on x-axis\n",
    "ind = np.arange(len(input_noise))\n",
    "\n",
    "# Figure size\n",
    "plt.figure(figsize=(10,5))\n",
    "\n",
    "# Width of a bar \n",
    "width = 0.3       \n",
    "\n",
    "# Plotting\n",
    "plt.bar(ind, input_noise , width, label='Blue bar label')\n",
    "plt.bar(ind + width, denoised_noise, width, label='Orange bar label')\n",
    "\n",
    "plt.xlabel('Here goes x-axis label')\n",
    "plt.ylabel('Here goes y-axis label')\n",
    "plt.title('Here goes title of the plot')\n",
    "#plt.yscale('log')\n",
    "\n",
    "# xticks()\n",
    "# First argument - A list of positions at which ticks should be placed\n",
    "# Second argument -  A list of labels to place at the given locations\n",
    "#plt.xticks(ind + width / 2, ('Xtick1', 'Xtick3', 'Xtick3'))\n",
    "\n",
    "# Finding the best position for legends and putting it\n",
    "plt.legend(loc='best')\n",
    "plt.show()\n"
   ]
  },
  {
   "cell_type": "code",
   "execution_count": 112,
   "id": "f31675db",
   "metadata": {},
   "outputs": [],
   "source": [
    "from skimage.metrics import structural_similarity as ssim_calc\n",
    "\n",
    "def calc_metrics(image_path, image_2_path):\n",
    "    img_input = cv2.imread(image_path)\n",
    "    img_final = cv2.imread(image_2_path)\n",
    "\n",
    "    # Convertir las imágenes a escala de grises\n",
    "    img_input_gray = cv2.cvtColor(img_input, cv2.COLOR_BGR2GRAY)\n",
    "    img_final_gray = cv2.cvtColor(img_final, cv2.COLOR_BGR2GRAY)\n",
    "\n",
    "    # Calcular el índice de similitud estructural (SSIM)\n",
    "    ssim = ssim_calc(img_input_gray, img_final_gray)\n",
    "\n",
    "    # Calcular el índice de calidad de imagen (IQI)\n",
    "    iqi = cv2.PSNR(img_input_gray, img_final_gray)\n",
    "    return ssim, iqi"
   ]
  },
  {
   "cell_type": "code",
   "execution_count": 114,
   "id": "672b3631",
   "metadata": {},
   "outputs": [
    {
     "name": "stdout",
     "output_type": "stream",
     "text": [
      "Metrics of input_n2v_4.png are: SSIM 0.9078927567337296, PSNR 32.433397448868746\n",
      "+++++++++++++\n",
      "Metrics of input_n2v_1.png are: SSIM 0.9149338820124031, PSNR 32.7132233289506\n",
      "+++++++++++++\n",
      "Metrics of input_n2v_3.png are: SSIM 0.9655536248888389, PSNR 38.455924231081\n",
      "+++++++++++++\n",
      "Metrics of input_n2v_2.png are: SSIM 0.9820540033318138, PSNR 41.68398295305846\n",
      "+++++++++++++\n",
      "Metrics of input_n2v_9.png are: SSIM 0.9640469630104737, PSNR 37.447710518740976\n",
      "+++++++++++++\n",
      "Metrics of input_n2v_7.png are: SSIM 0.9875775238936024, PSNR 43.55212709926433\n",
      "+++++++++++++\n",
      "Metrics of input_n2v_5.png are: SSIM 0.957774245095659, PSNR 40.781916244833795\n",
      "+++++++++++++\n",
      "Metrics of input_n2v_10.png are: SSIM 0.8757088757393854, PSNR 29.82455013048169\n",
      "+++++++++++++\n",
      "Metrics of input_n2v_8.png are: SSIM 0.9453061615409545, PSNR 36.31751954835518\n",
      "+++++++++++++\n",
      "Metrics of input_n2v_6.png are: SSIM 0.9347693994650031, PSNR 35.82778328111673\n",
      "+++++++++++++\n"
     ]
    }
   ],
   "source": [
    "root_dir = \"/kaggle/working\"\n",
    "metrics=[]\n",
    "for file in os.listdir(root_dir):\n",
    "    if \"input\" in file:\n",
    "        metrics = calc_metrics(os.path.join(root_dir, file),\n",
    "                           os.path.join(root_dir,file.replace('input', 'predict')))\n",
    "        print(f\"Metrics of {file} are: SSIM {metrics[0]}, PSNR {metrics[1]}\")\n",
    "        print(\"+++++++++++++\")"
   ]
  }
 ],
 "metadata": {
  "kernelspec": {
   "display_name": "Python 3 (ipykernel)",
   "language": "python",
   "name": "python3"
  },
  "language_info": {
   "codemirror_mode": {
    "name": "ipython",
    "version": 3
   },
   "file_extension": ".py",
   "mimetype": "text/x-python",
   "name": "python",
   "nbconvert_exporter": "python",
   "pygments_lexer": "ipython3",
   "version": "3.8.10"
  }
 },
 "nbformat": 4,
 "nbformat_minor": 5
}
