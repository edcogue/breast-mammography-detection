{
 "cells": [
  {
   "cell_type": "code",
   "execution_count": null,
   "metadata": {
    "execution": {
     "iopub.execute_input": "2023-05-03T15:53:49.345145Z",
     "iopub.status.busy": "2023-05-03T15:53:49.344751Z",
     "iopub.status.idle": "2023-05-03T15:53:52.838239Z",
     "shell.execute_reply": "2023-05-03T15:53:52.837292Z",
     "shell.execute_reply.started": "2023-05-03T15:53:49.345113Z"
    }
   },
   "outputs": [],
   "source": [
    "import torch\n",
    "from IPython.display import clear_output  # to display images\n",
    "from hyperopt import fmin, tpe, hp, Trials, space_eval\n",
    "from ultralytics import YOLO\n",
    "\n",
    "print(f\"Setup complete. Using torch {torch.__version__} ({torch.cuda.get_device_properties(0).name if torch.cuda.is_available() else 'CPU'})\")"
   ]
  },
  {
   "cell_type": "code",
   "execution_count": null,
   "metadata": {
    "execution": {
     "iopub.execute_input": "2023-05-03T15:55:50.922719Z",
     "iopub.status.busy": "2023-05-03T15:55:50.921587Z",
     "iopub.status.idle": "2023-05-03T15:57:16.756821Z",
     "shell.execute_reply": "2023-05-03T15:57:16.753286Z",
     "shell.execute_reply.started": "2023-05-03T15:55:50.922682Z"
    }
   },
   "outputs": [],
   "source": [
    "def objective(params):\n",
    "    # Define el modelo con los parámetros dados\n",
    "    model = YOLO('yolov8n-cls.pt')\n",
    "    \n",
    "    # Entrena el modelo\n",
    "    model.train(data=\"/tf/data/Mammographies/yolo_data/abnormality_classification\",\n",
    "                task=\"classify\",\n",
    "                epochs=10,\n",
    "                dropout=params[\"dropout\"],\n",
    "                lr0=params[\"lr\"],                \n",
    "                batch=2,\n",
    "                augment=True,\n",
    "                imgsz=320)\n",
    "    \n",
    "    # Evalúa el modelo\n",
    "    metrics = model.val()\n",
    "    \n",
    "    # Devuelve la métrica a optimizar\n",
    "    return -metrics.results_dict[\"metrics/accuracy_top1\"]\n",
    "\n",
    "# Define los rangos de los hiperparámetros\n",
    "space = {\n",
    "    'dropout': hp.choice('dropout',[0.0, 0.2, 0.4]),\n",
    "    'lr': hp.loguniform('lr', -6, -1),\n",
    "}\n",
    "\n",
    "trials = Trials()\n",
    "\n",
    "# Realiza la búsqueda de hiperparámetros\n",
    "best = fmin(objective, space, algo=tpe.suggest, max_evals=15, trials=trials)"
   ]
  },
  {
   "cell_type": "code",
   "execution_count": null,
   "metadata": {},
   "outputs": [],
   "source": [
    "trials.trials"
   ]
  },
  {
   "cell_type": "code",
   "execution_count": null,
   "metadata": {},
   "outputs": [],
   "source": [
    "best = space_eval(space, best)"
   ]
  },
  {
   "cell_type": "code",
   "execution_count": null,
   "metadata": {},
   "outputs": [],
   "source": [
    "# Define el modelo con los parámetros dados\n",
    "model = YOLO('yolov8n-cls.pt')\n",
    "\n",
    "# Entrena el modelo\n",
    "model.train(data=\"/tf/data/Mammographies/yolo_data/abnormality_classification\",\n",
    "            epochs=100,\n",
    "            dropout=best[\"dropout\"],\n",
    "            lr0=best[\"lr\"],                \n",
    "            batch=2,\n",
    "            augment=True,\n",
    "            imgsz=320)"
   ]
  },
  {
   "cell_type": "code",
   "execution_count": null,
   "metadata": {},
   "outputs": [],
   "source": [
    "# Evalúa el modelo\n",
    "metrics = model.val()"
   ]
  },
  {
   "cell_type": "code",
   "execution_count": null,
   "metadata": {},
   "outputs": [],
   "source": [
    "metrics"
   ]
  },
  {
   "cell_type": "code",
   "execution_count": null,
   "metadata": {},
   "outputs": [],
   "source": [
    "model.export()"
   ]
  },
  {
   "cell_type": "code",
   "execution_count": null,
   "metadata": {},
   "outputs": [],
   "source": [
    "from PIL import Image\n",
    "model_load=YOLO(\"./runs/classify/train3/weights/best.pt\")\n",
    "image=Image.open(f\"/tf/data/Mammographies/yolo_data/abnormality_classification/train/Distortion/2.png\").convert(\"RGB\")\n",
    "results=model_load(image)[0] #Saved on runs/detect/predict\n",
    "print(results.probs.data.tolist())\n",
    "results.names"
   ]
  }
 ],
 "metadata": {
  "kernelspec": {
   "display_name": "Python 3 (ipykernel)",
   "language": "python",
   "name": "python3"
  },
  "language_info": {
   "codemirror_mode": {
    "name": "ipython",
    "version": 3
   },
   "file_extension": ".py",
   "mimetype": "text/x-python",
   "name": "python",
   "nbconvert_exporter": "python",
   "pygments_lexer": "ipython3",
   "version": "3.8.10"
  }
 },
 "nbformat": 4,
 "nbformat_minor": 4
}
